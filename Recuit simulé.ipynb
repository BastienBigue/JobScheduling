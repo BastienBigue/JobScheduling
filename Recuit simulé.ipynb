{
 "cells": [
  {
   "cell_type": "code",
   "execution_count": 1,
   "metadata": {
    "collapsed": true
   },
   "outputs": [],
   "source": [
    "# first import the Model class from docplex.mp\n",
    "from docplex.mp.model import Model\n",
    "import numpy as np\n",
    "import time\n",
    "import sys\n",
    "import random\n",
    "import math"
   ]
  },
  {
   "cell_type": "code",
   "execution_count": 2,
   "metadata": {
    "collapsed": true
   },
   "outputs": [],
   "source": [
    "def compute_objective(matrix_test, solution_vector):\n",
    "    cost_per_machine = [0] * len(matrix_test)\n",
    "    \n",
    "    for nb_task in range(len(solution_vector)):\n",
    "        cost_per_machine[solution_vector[nb_task]] += matrix_test[solution_vector[nb_task]][nb_task] \n",
    "    return max(cost_per_machine)                     \n"
   ]
  },
  {
   "cell_type": "code",
   "execution_count": 3,
   "metadata": {
    "collapsed": true
   },
   "outputs": [],
   "source": [
    "def neighbor(matrix, population):\n",
    "    \n",
    "    new_population = list(population)\n",
    "    \n",
    "    rdm_job=random.randint(0,len(population)-1)\n",
    "    rdm_machine=random.randint(0, len(matrix)-1)\n",
    "    new_population[rdm_job]=rdm_machine\n",
    "        \n",
    "    return new_population"
   ]
  },
  {
   "cell_type": "code",
   "execution_count": 4,
   "metadata": {
    "collapsed": true
   },
   "outputs": [],
   "source": [
    "def temp(nb_iteration, nb_iteration_max):\n",
    "    return math.exp(-nb_iteration/nb_iteration_max)\n",
    "\n",
    "#def temp(temp):\n",
    "#    return 0.99*temp"
   ]
  },
  {
   "cell_type": "code",
   "execution_count": 5,
   "metadata": {
    "collapsed": true
   },
   "outputs": [],
   "source": [
    "def proba_admission(delta_objective, nb_iteration, nb_iteration_max):\n",
    "    temperature = temp(nb_iteration, nb_iteration_max)\n",
    "    return math.exp(-delta_objective/temperature)\n",
    "\n",
    "#def proba_admission(delta_objective, temperature):\n",
    "#    temperature = temp(temperature)\n",
    "#    return math.exp(-delta_objective/temperature)\n",
    "    "
   ]
  },
  {
   "cell_type": "code",
   "execution_count": 15,
   "metadata": {},
   "outputs": [
    {
     "name": "stdout",
     "output_type": "stream",
     "text": [
      "Solution initiale :  [0, 0, 0, 0, 1, 1, 3, 3, 2]  ; Cout :  47\n",
      "Solution trouvée :  [2, 1, 2, 3, 0, 1, 3, 0, 2]  ; Cout :  11\n"
     ]
    }
   ],
   "source": [
    "#def recuit_simule(matrix_test):\n",
    "def recuit_simule():\n",
    "    \n",
    "    matrix_test = [[8,10,9,1,4], [5,4,3,6,5], [8,1,9,3,1], [4,10,8,1,3], [10,6,2,5,6]]\n",
    "    matrix_test = [[13,9,11,14,9,2,7,1,14], [14,6,12,13,6,4,12,3,5], [3,9,5,12,14,5,8,13,3], [10,4,8,7,9,2,3,10,4]]\n",
    "    #matrix_solution = [[0,3,0,1], [1,2,0,3], [2,4,0,1], [2,1,1,2], [3,0,0,4]\n",
    "    \n",
    "    #s_initial = [3,2,1,0,2]\n",
    "    s_initial = [0,0,0,0,1,1,3,3,2]\n",
    "    #s_initial = [[7, 1], [5, 4], [0, 8, 2], [6, 3]]\n",
    "    #s_initial = glouton(matrix)\n",
    "    solution = s_initial\n",
    "    objective = compute_objective(matrix_test, s_initial)\n",
    "    \n",
    "    print(\"Solution initiale : \", solution, \" ; Cout : \", objective)\n",
    "       \n",
    "    nb_iteration = 0 \n",
    "    nb_iteration_max = 10000\n",
    "    temperature = 1\n",
    "    while (nb_iteration < nb_iteration_max):\n",
    "        neighbor_solution = neighbor(matrix_test, solution)\n",
    "        neighbor_objective = compute_objective(matrix_test,neighbor_solution)\n",
    "        if neighbor_objective < objective or random.uniform(0.0, 1.0) < proba_admission(neighbor_objective-objective, nb_iteration, nb_iteration_max) : \n",
    "            solution = neighbor_solution\n",
    "            objective = neighbor_objective\n",
    "        nb_iteration += 1\n",
    "\n",
    "    return solution, objective\n",
    "    \n",
    "solution, objective = recuit_simule()\n",
    "\n",
    "print(\"Solution trouvée : \", solution, \" ; Cout : \", objective)\n",
    "\n"
   ]
  },
  {
   "cell_type": "code",
   "execution_count": null,
   "metadata": {
    "collapsed": true
   },
   "outputs": [],
   "source": []
  }
 ],
 "metadata": {
  "kernelspec": {
   "display_name": "Python [default]",
   "language": "python",
   "name": "python3"
  },
  "language_info": {
   "codemirror_mode": {
    "name": "ipython",
    "version": 3
   },
   "file_extension": ".py",
   "mimetype": "text/x-python",
   "name": "python",
   "nbconvert_exporter": "python",
   "pygments_lexer": "ipython3",
   "version": "3.6.1"
  }
 },
 "nbformat": 4,
 "nbformat_minor": 2
}
