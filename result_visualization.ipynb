{
 "cells": [
  {
   "cell_type": "code",
   "execution_count": 129,
   "metadata": {},
   "outputs": [],
   "source": [
    "from docplex.mp.model import Model\n",
    "import numpy as np\n",
    "import time\n",
    "import sys\n",
    "import random\n",
    "import csv\n",
    "\n",
    "from numpy import *\n",
    "import math\n",
    "import matplotlib.pyplot as plt\n",
    "\n",
    "#import plotly.plotly as py\n",
    "#import plotly.figure_factory as ff\n",
    "#py.plotly.tools.set_credentials_file(username='Aelixs', api_key='DWfemarhjVa8nDeZyXcN')"
   ]
  },
  {
   "cell_type": "code",
   "execution_count": 155,
   "metadata": {
    "collapsed": true
   },
   "outputs": [],
   "source": [
    "class ReadingError(Exception):\n",
    "    pass\n",
    "\n",
    "def build_summaries(csvfile):\n",
    "    output = []\n",
    "    summary = {}\n",
    "    with open(csvfile, newline='') as csvfile:\n",
    "            reader = csv.reader(csvfile, delimiter=',', quotechar='', quoting=csv.QUOTE_NONE)\n",
    "            matrix = []\n",
    "            debut = False\n",
    "            fin = False\n",
    "            res = None\n",
    "            i=0\n",
    "            for row in reader:\n",
    "                i=i+1\n",
    "                if len(row) == 0 : \n",
    "                    summary['matrix'] = matrix\n",
    "                    output.append(summary)\n",
    "                    summary = {}\n",
    "                    matrix = []\n",
    "                    res = None \n",
    "                    debut = False\n",
    "                    fin = False \n",
    "                elif not debut and not fin and len(row) == 3 and row[0] != \"---\" :\n",
    "                    summary['num_matrix'] = int(row[0])\n",
    "                    summary['nb_task'] = int(row[2])\n",
    "                    summary['nb_machine'] = int(row[1])\n",
    "                elif not debut and not fin and len(row) == 1 and row[0] == \"---\": \n",
    "                    debut = True\n",
    "                elif debut:\n",
    "                    if row[0] == \"---\":\n",
    "                        fin = True\n",
    "                    elif len(row) == 4:\n",
    "                        matrix.append(row)\n",
    "                    elif fin:\n",
    "                        if len(row) == 2:\n",
    "                            summary['execution_time'] = row[0]\n",
    "                            summary['score'] = row[1]\n",
    "                        else :\n",
    "                            raise ReadingError(\"Erreur à la lecture du temps d'exécution et du résultat du solveur, ligne : \", row)\n",
    "                    else:\n",
    "                        raise ReadingError(\"Le fichier est mal formé, ligne : \", row)\n",
    "                else : \n",
    "                    raise ReadingError(\"Le fichier est très mal formé, ligne : \", row, i)\n",
    "    return output "
   ]
  },
  {
   "cell_type": "code",
   "execution_count": 163,
   "metadata": {
    "collapsed": true
   },
   "outputs": [],
   "source": [
    "def plot_resultat(resultat): \n",
    "    for s in resultat:\n",
    "        M = s['nb_machine']\n",
    "        J = s['nb_task']\n",
    "\n",
    "        # Plot the jobs\n",
    "        for r in s['matrix']:     \n",
    "            m = int(r[0])\n",
    "            j = int(r[1])\n",
    "            start = int(r[2])\n",
    "            finish = int(r[3])\n",
    "            x = [start, finish]\n",
    "            y = [m+1, m+1]\n",
    "            plt.plot(x, y, linewidth=3.0)\n",
    "            plt.text(mean(x), m+1+0.2, \"%d\" % j)\n",
    "\n",
    "        plt.xlabel('Time')\n",
    "        plt.ylabel('Machine')\n",
    "        plt.ylim([0,M+1])\n",
    "        plt.yticks(np.arange(0, M+1, 1.0))\n",
    "        plt.show()"
   ]
  },
  {
   "cell_type": "code",
   "execution_count": 164,
   "metadata": {},
   "outputs": [
    {
     "data": {
      "image/png": "[encoded data removed]",
      "text/plain": [
       "<matplotlib.figure.Figure at 0x2cc5e74e080>"
      ]
     },
     "metadata": {},
     "output_type": "display_data"
    }
   ],
   "source": [
    "out = build_summaries(\"output.txt\")\n",
    "plot_resultat(out)"
   ]
  }
 ],
 "metadata": {
  "kernelspec": {
   "display_name": "Python 3",
   "language": "python",
   "name": "python3"
  },
  "language_info": {
   "codemirror_mode": {
    "name": "ipython",
    "version": 3
   },
   "file_extension": ".py",
   "mimetype": "text/x-python",
   "name": "python",
   "nbconvert_exporter": "python",
   "pygments_lexer": "ipython3",
   "version": "3.5.4"
  }
 },
 "nbformat": 4,
 "nbformat_minor": 2
}
