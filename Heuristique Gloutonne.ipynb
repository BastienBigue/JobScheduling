{
 "cells": [
  {
   "cell_type": "code",
   "execution_count": 68,
   "metadata": {
    "collapsed": true
   },
   "outputs": [],
   "source": [
    "import time\n",
    "\n",
    "def heuristique_stupide(jobs):\n",
    "    t = time.perf_counter()\n",
    "    \n",
    "    M = len(jobs)\n",
    "    J = len(jobs[0])\n",
    "    \n",
    "    jobs_done = []\n",
    "    solution = []\n",
    "    tps_exec = []\n",
    "    for m in range(M):\n",
    "        solution.append([])\n",
    "        tps_exec.append(0)\n",
    "        \n",
    "    for j in range(J):\n",
    "        \n",
    "        min_machine = tps_exec.index(min(tps_exec))\n",
    "        min_tps_exec =  tps_exec[min_machine]\n",
    "\n",
    "        min_job = 0\n",
    "        min_job_time = 100000\n",
    "        for i in range(J):\n",
    "            if jobs[min_machine][i] < min_job_time and not i in jobs_done:\n",
    "                min_job_time = jobs[min_machine][i]\n",
    "                min_job = i\n",
    "                \n",
    "        solution[min_machine].append(min_job)\n",
    "        jobs_done.append(min_job)\n",
    "        tps_exec[min_machine] += min_job_time\n",
    "\n",
    "    program_time = time.perf_counter() - t\n",
    "    \n",
    "    print(solution)\n",
    "    print(tps_exec)\n",
    "    return solution, max(tps_exec), program_time"
   ]
  },
  {
   "cell_type": "code",
   "execution_count": 70,
   "metadata": {
    "collapsed": true
   },
   "outputs": [],
   "source": [
    "def format_solution(num, jobs): \n",
    "    sol, objective, time = heuristique_stupide(jobs)\n",
    "    \n",
    "    M = len(jobs)\n",
    "    J = len(jobs[0])\n",
    "    \n",
    "    file = open(\"output.txt\", \"w\")\n",
    "    print(\"%d, %d, %d\" % (num, M, J), file=file)\n",
    "    print(\"---\", file=file)\n",
    "    for m in range(M):\n",
    "        start_time = 0\n",
    "        for j in sol[m]:\n",
    "            print(\"%d,%d,%d,%d\" % (m, j, start_time, start_time + jobs[m][j]), file=file)\n",
    "            start_time += jobs[m][j]\n",
    "                \n",
    "    print(\"---\", file=file)\n",
    "    print(\"%.15f,%d\\n\" % (time, objective), file=file)\n"
   ]
  },
  {
   "cell_type": "code",
   "execution_count": null,
   "metadata": {
    "collapsed": true
   },
   "outputs": [],
   "source": []
  },
  {
   "cell_type": "code",
   "execution_count": 71,
   "metadata": {},
   "outputs": [
    {
     "name": "stdout",
     "output_type": "stream",
     "text": [
      "[[7, 1], [5, 4], [0, 8, 2], [6, 3]]\n",
      "[10, 10, 11, 10]\n"
     ]
    },
    {
     "data": {
      "text/plain": [
       "([[7, 1], [5, 4], [0, 8, 2], [6, 3]], 11, 3.239504894736456e-05)"
      ]
     },
     "execution_count": 71,
     "metadata": {},
     "output_type": "execute_result"
    }
   ],
   "source": [
    "jobs = [[4, 3, 5, 2, 5],\n",
    "        [7, 2, 6, 1, 8],\n",
    "        [1, 8, 10, 8, 3]]\n",
    "jobs = [[9,8,0,3,4,10,10,10,3,2],\n",
    "        [5,4,7,0,8,2,0,10,3,9],\n",
    "        [7,0,2,9,5,1,4,5,2,8],\n",
    "        [10,8,1,6,0,5,5,3,2,4],\n",
    "        [2,8,4,4,7,2,9,3,7,6],\n",
    "        [8,1,2,9,3,9,9,0,1,7],\n",
    "        [9,4,1,3,3,7,7,1,7,10],\n",
    "        [5,9,7,4,8,9,3,1,0,2],\n",
    "        [9,6,2,7,1,6,3,9,0,6],\n",
    "        [7,8,3,3,7,3,2,2,4,4]]\n",
    "\n",
    "jobs = [[10,9,1,4,5,11,11,11,4],\n",
    "[3,13,6,5,12,8,14,1,9],\n",
    "[12,3,1,11,4,10,12,8,14],\n",
    "[1,3,13,10,6,2,5,6,3]]\n",
    "\n",
    "jobs = [[13,9,11,14,9,2,7,1,14],\n",
    "[14,6,12,13,6,4,12,3,5],\n",
    "[3,9,5,12,14,5,8,13,3],\n",
    "[10,4,8,7,9,2,3,10,4]]\n",
    "\n",
    "heuristique_stupide(jobs)"
   ]
  },
  {
   "cell_type": "code",
   "execution_count": 72,
   "metadata": {},
   "outputs": [
    {
     "name": "stdout",
     "output_type": "stream",
     "text": [
      "[[7, 1], [5, 4], [0, 8, 2], [6, 3]]\n",
      "[10, 10, 11, 10]\n"
     ]
    }
   ],
   "source": [
    "format_solution(0, jobs)"
   ]
  },
  {
   "cell_type": "code",
   "execution_count": null,
   "metadata": {
    "collapsed": true
   },
   "outputs": [],
   "source": []
  }
 ],
 "metadata": {
  "kernelspec": {
   "display_name": "Python 3",
   "language": "python",
   "name": "python3"
  },
  "language_info": {
   "codemirror_mode": {
    "name": "ipython",
    "version": 3
   },
   "file_extension": ".py",
   "mimetype": "text/x-python",
   "name": "python",
   "nbconvert_exporter": "python",
   "pygments_lexer": "ipython3",
   "version": "3.5.4"
  }
 },
 "nbformat": 4,
 "nbformat_minor": 2
}
