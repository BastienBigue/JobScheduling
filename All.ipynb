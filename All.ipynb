{
 "cells": [
  {
   "cell_type": "markdown",
   "metadata": {},
   "source": [
    "# Modélisation et résolution du problème en PLNE"
   ]
  },
  {
   "cell_type": "code",
   "execution_count": 2,
   "metadata": {
    "collapsed": true
   },
   "outputs": [],
   "source": [
    "# first import the Model class from docplex.mp\n",
    "from docplex.mp.model import Model\n",
    "import numpy as np\n",
    "import time\n",
    "import sys"
   ]
  },
  {
   "cell_type": "code",
   "execution_count": 3,
   "metadata": {
    "collapsed": true
   },
   "outputs": [],
   "source": [
    "# \"jobs\" is a matrix where each value is the working time needed for each job on each machine\n",
    "# jobs[i][j] is the time needed for job j on machine i\n",
    "\n",
    "def create_job_scheduling_PLNE(jobs):\n",
    "    nb_jobs = len(jobs[0])\n",
    "    M = len(jobs)\n",
    "    \n",
    "    # create one model instance, with a name\n",
    "    mdl = Model(name='job_scheduling_v1')\n",
    "    \n",
    "    # Creation of the variables\n",
    "    # Variable name format: x_<numMachine>_<numJob>_<jobPosition>\n",
    "    # \"x_3_2_4 = 1\" ===> \"the job #2 will be the 4th job to run on the machine #3\"\n",
    "    # (indexes start at 1)\n",
    "    x = []\n",
    "    for m in range(M):\n",
    "        x.append([])\n",
    "        for j in range(nb_jobs):\n",
    "            x[m].append([])\n",
    "            for k in range(nb_jobs):\n",
    "                x[m][j].append(mdl.binary_var(name=\"x_%d_%d_%d\" % (m+1, j+1, k+1)))\n",
    "       \n",
    "    x = np.asarray(x)\n",
    "    \n",
    "    # Each job must be processed one time\n",
    "    for i in range(nb_jobs):\n",
    "        mdl.add_constraint(np.sum(np.sum(x[:,i,:])) == 1)\n",
    "        \n",
    "    # Each machine can only run 1 job at a time\n",
    "    for m in range(M):\n",
    "        for i in range(nb_jobs):\n",
    "            mdl.add_constraint(np.sum(np.sum(x[m,:,i])) <= 1)\n",
    "    \n",
    "    # The machines are running in parallel, so the objective is\n",
    "    # to minimize the working time of the machine that will work longer than the others\n",
    "    z = mdl.integer_var(name=\"objective\")\n",
    "    for m in range(M):\n",
    "        mdl.add_constraint(z >= np.sum(np.dot(np.asarray(jobs[m]), x[m,:,:])))\n",
    "    \n",
    "    mdl.minimize(z)\n",
    "    return mdl, x\n",
    "\n",
    "# remplacer tous les print par des écritures dans un fichier\n",
    "def format_solution_PLNE(outputfile, num, jobs, var, sol, tps_exec): \n",
    "    M = len(jobs)\n",
    "    J = len(jobs[0])\n",
    "    \n",
    "    file = open(outputfile, \"a\")\n",
    "    print(\"%d,%d,%d\" % (num, M,J), file=file)\n",
    "    print(\"---\", file=file)\n",
    "    \n",
    "    for m in range(M):\n",
    "        start_time = 0\n",
    "        for p in range(J):\n",
    "            for j in range(J):\n",
    "                if sol.get_value(var[m,j,p]) == 1:\n",
    "                    print(\"%d,%d,%d,%d\" % (m, j, start_time, start_time + jobs[m][j]), file=file)\n",
    "                    start_time += jobs[m][j]\n",
    "                    break\n",
    "    print(\"---\", file=file)\n",
    "    print(\"%lf,%d\\n\" % (tps_exec, sol.get_objective_value()), file=file)\n",
    "\n",
    "    \n",
    "def solve_job_scheduling_PLNE(num, jobs, outputfile=False):\n",
    "    mdl, x = create_job_scheduling_PLNE(jobs)\n",
    "    \n",
    "    t = time.time()\n",
    "    sol = mdl.solve()\n",
    "    tps_exec = time.time() - t\n",
    "    if sol:\n",
    "        #print(sol)\n",
    "        if outputfile: \n",
    "            format_solution_PLNE(outputfile, num, jobs, x, sol, tps_exec)    "
   ]
  },
  {
   "cell_type": "code",
   "execution_count": 4,
   "metadata": {},
   "outputs": [],
   "source": [
    "import csv\n",
    "def test_job_scheduling_PLNE(inputfile, outputfile):\n",
    "    f = open(outputfile, 'w')\n",
    "    f.close()\n",
    "    with open(inputfile, newline='') as csvfile:\n",
    "        csvreader = csv.reader(csvfile, delimiter=',', quotechar='|')\n",
    "        jobs = []\n",
    "        num = 0\n",
    "        \n",
    "        for row in csvreader:\n",
    "            if row:\n",
    "                if len(row) != 1:\n",
    "                    values = []\n",
    "                    for value in row:\n",
    "                        values.append(int(value))\n",
    "                    jobs.append(values)\n",
    "            else:\n",
    "                #print(jobs)\n",
    "                #print()\n",
    "                solve_job_scheduling_PLNE(num, jobs, outputfile)\n",
    "                num += 1\n",
    "                jobs = []\n",
    "                "
   ]
  },
  {
   "cell_type": "markdown",
   "metadata": {},
   "source": [
    "# Modélisation et résolution du problème en PPC"
   ]
  },
  {
   "cell_type": "code",
   "execution_count": 5,
   "metadata": {
    "collapsed": true
   },
   "outputs": [],
   "source": [
    "from config import setup\n",
    "setup()"
   ]
  },
  {
   "cell_type": "code",
   "execution_count": 6,
   "metadata": {},
   "outputs": [],
   "source": [
    "import csv\n",
    "\n",
    "def create_matrix_list_from_csv(inputfile):\n",
    "    list_of_matrix=[]\n",
    "    with open(inputfile, 'r') as csvfile:\n",
    "        spamreader = csv.reader(csvfile, delimiter=',')\n",
    "        matrix = []\n",
    "        \n",
    "        for line in spamreader:\n",
    "            if line==[] or len(line) == 1:\n",
    "                list_of_matrix.append(matrix)\n",
    "                matrix=[]\n",
    "            else:\n",
    "                row = []\n",
    "                for cell in line:\n",
    "                    row.append(int (cell))\n",
    "                matrix.append(row)  \n",
    "                \n",
    "        if (matrix!=[]):\n",
    "            list_of_matrix.append(matrix)\n",
    "        \n",
    "        return list_of_matrix"
   ]
  },
  {
   "cell_type": "code",
   "execution_count": 7,
   "metadata": {
    "collapsed": true
   },
   "outputs": [],
   "source": [
    "from docplex.cp.model import CpoModel\n",
    "import numpy as np\n",
    "\n",
    "def create_model(D):\n",
    "\n",
    "    M=len(D)\n",
    "    T=len(D[0])\n",
    "    \n",
    "    # Create the model\n",
    "    mdl = CpoModel(name='projetMineure')\n",
    "\n",
    "    # Create one interval variable per job operation\n",
    "    x = [[mdl.interval_var(size=D[m][t], optional=True, name=\"Machine_{}-Job_{}\".format(m, t)) for t in range(T)] for m in range(M)]\n",
    "\n",
    "\n",
    "    # Force no overlap for operations executed on a same machine\n",
    "    for m in range(M):\n",
    "        mdl.add(mdl.no_overlap(x[m]))\n",
    "    \n",
    "    for t in range(T):\n",
    "        mdl.add((sum([mdl.presence_of(x[m][t]) for m in range(M)])==1))\n",
    "    \n",
    "\n",
    "    # Minimize termination date\n",
    "    flatten_x = np.array(x).flatten()\n",
    "    \n",
    "    mdl.add(mdl.minimize(mdl.max([mdl.end_of(flatten_x[t]) for t in range(len(flatten_x))])))\n",
    "        \n",
    "    return mdl, x"
   ]
  },
  {
   "cell_type": "code",
   "execution_count": 8,
   "metadata": {
    "collapsed": true
   },
   "outputs": [],
   "source": [
    "import sys\n",
    "\n",
    "\n",
    "def test_job_scheduling_PPC(inputfile, outputfile):\n",
    "        \n",
    "    file = open(outputfile, 'w')\n",
    "\n",
    "    list_of_matrix = create_matrix_list_from_csv(inputfile)\n",
    "    id_matrix=0\n",
    "    for matrix in list_of_matrix:\n",
    "        if matrix!=[]:\n",
    "            mdl, x = create_model(matrix)\n",
    "            sol=mdl.solve()\n",
    "            if (sol):   \n",
    "                #id_Matrice\n",
    "                print(id_matrix, end='', file=file)\n",
    "                print(\",\", end='', file=file)\n",
    "\n",
    "                #Nombre de Machines\n",
    "                print(len(matrix), end='', file=file)\n",
    "                print(\",\", end='', file=file)\n",
    "\n",
    "                #Nombre de Tâches\n",
    "                print(len(matrix[0]), file=file)\n",
    "\n",
    "                #Separation id_Matrice et Matrice \n",
    "                print(\"---\", file=file)\n",
    "\n",
    "                var=sol.get_all_var_solutions()\n",
    "                for v in var:\n",
    "                    if not(v.is_absent()):\n",
    "                        name=v.get_name().split(\"-\")\n",
    "\n",
    "                        #Numero de la machine\n",
    "                        print(name[0].split(\"_\")[1]+\",\", end='', file=file)\n",
    "\n",
    "                        #Numero de la tache\n",
    "                        print(name[1].split(\"_\")[1]+\",\", end='', file=file)\n",
    "\n",
    "                        #Temps du debut de la tache\n",
    "                        print(v.get_start(), end='', file=file)     \n",
    "                        print(\",\", end='', file=file)\n",
    "\n",
    "                        #Temps de la fin de la tache\n",
    "                        print(v.get_end(), file=file)\n",
    "\n",
    "                #Separation Matrice et Résultats\n",
    "                print(\"---\", file=file)\n",
    "\n",
    "                #Temps d'execution\n",
    "                print(sol.get_solve_time(), end='', file=file)\n",
    "                print(\",\", end='', file=file)\n",
    "\n",
    "                #Resultat Optimal\n",
    "                print(sol.get_objective_values()[0], file=file)\n",
    "\n",
    "                print(file=file)\n",
    "\n",
    "\n",
    "            else:\n",
    "                print(\"error: No solution found\", file=file)\n",
    "\n",
    "            id_matrix+=1"
   ]
  },
  {
   "cell_type": "markdown",
   "metadata": {},
   "source": [
    "# Génération des tests "
   ]
  },
  {
   "cell_type": "code",
   "execution_count": 9,
   "metadata": {},
   "outputs": [],
   "source": [
    "from config import setup\n",
    "setup()"
   ]
  },
  {
   "cell_type": "code",
   "execution_count": 10,
   "metadata": {},
   "outputs": [],
   "source": [
    "import random \n",
    "import csv\n",
    "\n",
    "def create_test_interactive(file): \n",
    "    # Il faut changer la graine pour avoir des nouvelles matrices aléatoires.\n",
    "    random.seed(40)\n",
    "    a = random.randint(0,10)\n",
    "    print(a)\n",
    "\n",
    "    while True:\n",
    "        m = input(\"Combien de machines ? \")\n",
    "        try:\n",
    "            m = int(m)\n",
    "            break\n",
    "        except ValueError: \n",
    "            print(\"Veuillez enter un entier svp.\") \n",
    "\n",
    "\n",
    "    while True:\n",
    "        t = input(\"Combien de tâches ? \")\n",
    "        try:\n",
    "            t = int(t)\n",
    "            break\n",
    "        except ValueError: \n",
    "            print(\"Veuillez enter un entier svp.\")\n",
    "\n",
    "    while True:\n",
    "        c = input(\"Cout maximal ?\")\n",
    "        try:\n",
    "            c = int(c)\n",
    "            break\n",
    "        except ValueError: \n",
    "            print(\"Veuillez enter un entier svp.\")\n",
    "\n",
    "    while True:\n",
    "        nb = input(\"Combien de tests ?\")\n",
    "        try:\n",
    "            nb = int(nb)\n",
    "            break\n",
    "        except ValueError: \n",
    "            print(\"Veuillez enter un entier svp.\")\n",
    "\n",
    "    with open(file, 'w', newline='') as csvfile:\n",
    "        writer = csv.writer(csvfile, delimiter=',',\n",
    "                                quotechar='', quoting=csv.QUOTE_NONE)\n",
    "        for k in range(0,nb): \n",
    "            l = [[random.randint(1,c) for j in range(t)] for i in range(m)]\n",
    "            writer.writerow([k])\n",
    "            writer.writerows(l)\n",
    "            writer.writerow([])\n",
    "            \n",
    "            \n",
    "def create_test(file, nb_machines, nb_taches, cout_maximal, nb_tests): \n",
    "    # Il faut changer la graine pour avoir des nouvelles matrices aléatoires.\n",
    "    random.seed(40)\n",
    "\n",
    "    with open(file, 'w', newline='') as csvfile:\n",
    "        writer = csv.writer(csvfile, delimiter=',',\n",
    "                                quotechar='', quoting=csv.QUOTE_NONE)\n",
    "        for k in range(0,nb_tests): \n",
    "            l = [[random.randint(1,cout_maximal) for j in range(nb_taches)] for i in range(nb_machines)]\n",
    "            writer.writerow([k])\n",
    "            writer.writerows(l)\n",
    "            writer.writerow([])           \n"
   ]
  },
  {
   "cell_type": "markdown",
   "metadata": {},
   "source": [
    "# Vérification des solutions"
   ]
  },
  {
   "cell_type": "code",
   "execution_count": 11,
   "metadata": {
    "collapsed": true
   },
   "outputs": [],
   "source": [
    "# Sur la meme machine, pas de superposition, ok \n",
    "# Toutes les tâches sont faites une fois\n",
    "# Vérifier le résultat optimal\n",
    "\n",
    "\n",
    "def check_solution(num_matrix, matrix, score):\n",
    "    #Check if there is an overlaping on the given matrix\n",
    "    matrix[0][0]\n",
    "    currMachine = -1\n",
    "    jobs = []\n",
    "    currMachine = matrix[0][0]\n",
    "    admissible = True\n",
    "    for i in matrix:\n",
    "        debut = i[2]\n",
    "        fin = i[3]\n",
    "        if i[0] == currMachine:\n",
    "            jobs.append((debut,fin))\n",
    "        elif i[0] != currMachine:\n",
    "            admissible = admissible and check_machine(jobs)\n",
    "            jobs=[(debut,fin)]\n",
    "            currMachine = i[0]\n",
    "    #For the last machine\n",
    "    admissible = admissible and check_machine(jobs)\n",
    "    \n",
    "    #Check if all the tasks have been executed exactly once\n",
    "    #A changer !!!\n",
    "    nb_task = 10\n",
    "    by_task = sorted(matrix, key=lambda line: line[1])\n",
    "    for i,j in zip(by_task, range(nb_task)):\n",
    "        if int(i[1]) != int(j): \n",
    "            admissible = admissible and False\n",
    "    \n",
    "    #Check if the optimal result found is the max of the end date.\n",
    "    last = max([i[3] for i in matrix])\n",
    "    admissible = admissible and (last == score)\n",
    "    \n",
    "    if not admissible : \n",
    "        print(\"Matrice \", num_matrix, \" is not an admissible solution\")   \n",
    "\n",
    "#check if jobs do not overlap on a single machine\n",
    "def check_machine(jobs): \n",
    "    jobs = sorted(jobs, key=lambda job: job[0])\n",
    "    for i in range(len(jobs)):\n",
    "        if i != (len(jobs)-1):\n",
    "            if jobs[i][0] <= jobs[i+1][0] and jobs[i][1] > jobs[i+1][0]:\n",
    "                return False            \n",
    "    return True\n",
    "        "
   ]
  },
  {
   "cell_type": "code",
   "execution_count": 12,
   "metadata": {
    "collapsed": true
   },
   "outputs": [],
   "source": [
    "class ReadingError(Exception):\n",
    "    pass\n",
    "\n",
    "def build_summaries(csvfile):\n",
    "    output = []\n",
    "    summary = {}\n",
    "    with open(csvfile, newline='') as csvfile:\n",
    "            reader = csv.reader(csvfile, delimiter=',', quotechar='', quoting=csv.QUOTE_NONE)\n",
    "            matrix = []\n",
    "            debut = False\n",
    "            fin = False\n",
    "            res = None\n",
    "            i=0\n",
    "            for row in reader:\n",
    "                i=i+1\n",
    "                if len(row) == 0 : \n",
    "                    summary['matrix'] = matrix\n",
    "                    output.append(summary)\n",
    "                    summary = {}\n",
    "                    matrix = []\n",
    "                    res = None \n",
    "                    debut = False\n",
    "                    fin = False \n",
    "                elif not debut and not fin and len(row) == 3 and row[0] != \"---\" :\n",
    "                    summary['num_matrix'] = int(row[0])\n",
    "                    summary['nb_task'] = int(row[1])\n",
    "                    summary['nb_machine'] = int(row[2])\n",
    "                elif not debut and not fin and len(row) == 1 and row[0] == \"---\": \n",
    "                    debut = True\n",
    "                elif debut:\n",
    "                    if row[0] == \"---\":\n",
    "                        fin = True\n",
    "                    elif len(row) == 4:\n",
    "                        matrix.append(row)\n",
    "                    elif fin:\n",
    "                        if len(row) == 2:\n",
    "                            summary['execution_time'] = row[0]\n",
    "                            summary['score'] = row[1]\n",
    "                        else :\n",
    "                            raise ReadingError(\"Erreur à la lecture du temps d'exécution et du résultat du solveur, ligne : \", row)\n",
    "                    else:\n",
    "                        raise ReadingError(\"Le fichier est mal formé, ligne : \", row)\n",
    "                else : \n",
    "                    raise ReadingError(\"Le fichier est très mal formé, ligne : \", row, i)\n",
    "    return output "
   ]
  },
  {
   "cell_type": "markdown",
   "metadata": {},
   "source": [
    "# Comparaison de PLNE et PPC selon différentes instances de tests:"
   ]
  },
  {
   "cell_type": "markdown",
   "metadata": {},
   "source": [
    "### Jeu de test : 1000 tests avec 10 taches, 10 machines et un cout maximal de 10."
   ]
  },
  {
   "cell_type": "code",
   "execution_count": 23,
   "metadata": {},
   "outputs": [],
   "source": [
    "testfile = \"tests_10_10_10_1000.csv\"\n",
    "create_test(testfile, 10, 10, 10, 1000)"
   ]
  },
  {
   "cell_type": "code",
   "execution_count": 24,
   "metadata": {},
   "outputs": [
    {
     "name": "stdout",
     "output_type": "stream",
     "text": [
      "Génération des solutions en PPC...\n",
      "Terminé\n"
     ]
    }
   ],
   "source": [
    "print(\"Génération des solutions en PPC...\")\n",
    "test_job_scheduling_PPC(testfile, \"solutions_10_10_10_1000_PPC.csv\")\n",
    "print(\"Terminé\")"
   ]
  },
  {
   "cell_type": "code",
   "execution_count": 27,
   "metadata": {},
   "outputs": [
    {
     "name": "stdout",
     "output_type": "stream",
     "text": [
      "Génération des solutions en PLNE...\n",
      "Terminé\n"
     ]
    }
   ],
   "source": [
    "print(\"Génération des solutions en PLNE...\")\n",
    "test_job_scheduling_PLNE(testfile, \"solutions_10_10_10_1000_PLNE.csv\")\n",
    "print(\"Terminé\")"
   ]
  },
  {
   "cell_type": "code",
   "execution_count": 20,
   "metadata": {},
   "outputs": [],
   "source": [
    "list_summaries_PPC = build_summaries(\"solutions_10_10_10_1000_PPC.csv\")\n",
    "for summary in list_summaries_PPC:\n",
    "    check_solution(summary['num_matrix'], summary['matrix'], summary['score'])"
   ]
  },
  {
   "cell_type": "code",
   "execution_count": 21,
   "metadata": {},
   "outputs": [],
   "source": [
    "list_summaries_PLNE = build_summaries(\"solutions_10_10_10_1000_PLNE.csv\")\n",
    "for summary in list_summaries_PLNE:\n",
    "    check_solution(summary['num_matrix'], summary['matrix'], summary['score'])"
   ]
  },
  {
   "cell_type": "markdown",
   "metadata": {},
   "source": [
    "#### Evaluation des temps de calcul : "
   ]
  },
  {
   "cell_type": "code",
   "execution_count": 40,
   "metadata": {},
   "outputs": [
    {
     "name": "stdout",
     "output_type": "stream",
     "text": [
      "Temps moyen d'exécution pour PLNE :  0.031923235\n"
     ]
    }
   ],
   "source": [
    "import numpy as np \n",
    "temps = [float(i['execution_time']) for i in list_summaries_PLNE]\n",
    "print(\"Temps moyen d'exécution pour PLNE : \", np.mean(temps))"
   ]
  },
  {
   "cell_type": "code",
   "execution_count": 41,
   "metadata": {},
   "outputs": [
    {
     "name": "stdout",
     "output_type": "stream",
     "text": [
      "Temps moyen d'exécution pour PPC :  0.00900505495071\n"
     ]
    }
   ],
   "source": [
    "import numpy as np \n",
    "temps = [float(i['execution_time']) for i in list_summaries_PPC]\n",
    "print(\"Temps moyen d'exécution pour PPC : \", np.mean(temps))"
   ]
  },
  {
   "cell_type": "markdown",
   "metadata": {},
   "source": [
    "### 10 Instances les plus compliquées : "
   ]
  },
  {
   "cell_type": "code",
   "execution_count": 42,
   "metadata": {},
   "outputs": [
    {
     "name": "stdout",
     "output_type": "stream",
     "text": [
      "[120, 158, 161, 233, 280, 299, 573, 628, 681, 753]\n",
      "[0, 1, 122, 254, 316, 410, 643, 864, 872, 942]\n"
     ]
    }
   ],
   "source": [
    "def find_top_10_hardest_problems(list_summaries):\n",
    "    test = sorted(list_summaries, key=lambda job: job['execution_time'])\n",
    "    return test[-10:]\n",
    "    \n",
    "list_top_10_hardest_problems_PLNE = find_top_10_hardest_problems(list_summaries_PLNE)\n",
    "num_PLNE = [i['num_matrix'] for i in list_top_10_hardest_problems_PLNE]\n",
    "num_PLNE = sorted(num_PLNE)\n",
    "print(num_PLNE)\n",
    "\n",
    "list_top_10_hardest_problems_PPC = find_top_10_hardest_problems(list_summaries_PPC)\n",
    "num_PPC = [i['num_matrix'] for i in list_top_10_hardest_problems_PPC]\n",
    "num_PPC = sorted(num_PPC)\n",
    "print(num_PPC)"
   ]
  },
  {
   "cell_type": "code",
   "execution_count": null,
   "metadata": {
    "collapsed": true
   },
   "outputs": [],
   "source": []
  }
 ],
 "metadata": {
  "kernelspec": {
   "display_name": "Python [default]",
   "language": "python",
   "name": "python3"
  }
 },
 "nbformat": 4,
 "nbformat_minor": 2
}
