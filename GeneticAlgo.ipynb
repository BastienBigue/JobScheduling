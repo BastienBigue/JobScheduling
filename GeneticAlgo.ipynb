{
 "cells": [
  {
   "cell_type": "markdown",
   "metadata": {
    "collapsed": true
   },
   "source": [
    "### Génération de la population de départ pour l'algorithme génétique \n",
    ">Aléatoire pour le moment"
   ]
  },
  {
   "cell_type": "code",
   "execution_count": 125,
   "metadata": {},
   "outputs": [],
   "source": [
    "import random\n",
    "\n",
    "\n",
    "def generate_population(Matrix, population_size, seed=22):\n",
    "    \n",
    "    random.seed(seed)\n",
    "    \n",
    "    nb_machines=len(Matrix)\n",
    "    nb_task=len(Matrix[0])\n",
    "    \n",
    "    population=[]\n",
    "    \n",
    "    for i in range(population_size):\n",
    "        individual=[]\n",
    "        for task in range(nb_task):\n",
    "            rdm_machine=random.randint(0,nb_machines-1)\n",
    "            individual.append(rdm_machine)\n",
    "            \n",
    "        population.append(individual)\n",
    "    \n",
    "    return population"
   ]
  },
  {
   "cell_type": "markdown",
   "metadata": {},
   "source": [
    "### Calcul du score pour un individu de la population\n",
    "> C'est la durée totale que mettent tous les jobs à s'éxécuter sur les machines indiquées"
   ]
  },
  {
   "cell_type": "code",
   "execution_count": 126,
   "metadata": {},
   "outputs": [],
   "source": [
    "def score_individual(Matrix, individual):\n",
    "    nb_machines=len(Matrix)\n",
    "    score_machine= [0 for i in range(nb_machines)]\n",
    "    \n",
    "    for i in range(len(individual)):\n",
    "        score_machine[individual[i]]+=Matrix[individual[i]][i]\n",
    "        \n",
    "    return max(score_machine)"
   ]
  },
  {
   "cell_type": "markdown",
   "metadata": {},
   "source": [
    "### Récupération de 50% de la population actuelle\n",
    ">45% sont ceux ayant le meilleur score\n",
    "\n",
    ">5% sont séléctionnés aléatoirement"
   ]
  },
  {
   "cell_type": "code",
   "execution_count": 127,
   "metadata": {},
   "outputs": [
    {
     "name": "stdout",
     "output_type": "stream",
     "text": [
      "5\n",
      "6\n",
      "6\n",
      "6\n",
      "6\n",
      "6\n",
      "6\n",
      "6\n",
      "6\n",
      "10\n"
     ]
    }
   ],
   "source": [
    "def selection_fitness(Matrix, population):\n",
    "    sorted_pop=sorted(population, key=lambda individual: score_individual(Matrix, individual))\n",
    "    \n",
    "    nb_fittest=int(len(population)*0.45)\n",
    "    nb_random=int(len(population)*0.5)-nb_fittest\n",
    "    \n",
    "    parents=sorted_pop[0:nb_fittest]\n",
    "    \n",
    "    for i in range(nb_random):\n",
    "        rdm=random.randint(nb_fittest+1, len(population)-1)\n",
    "        parents.append(sorted_pop[rdm])\n",
    "    \n",
    "    return list(parents)\n",
    "    \n",
    "for i in selection_fitness(M, population):\n",
    "    print(score_individual(M, i))"
   ]
  },
  {
   "cell_type": "markdown",
   "metadata": {},
   "source": [
    "### Crossover\n",
    "> Les parents font un accouplement 2 à 2 (Chaleeeuuur)\n",
    "\n",
    "> L'enfant généré récupère une partie de chacun de ses parents (la taille de chaque partie étant définie aléatoirement)"
   ]
  },
  {
   "cell_type": "code",
   "execution_count": 128,
   "metadata": {},
   "outputs": [],
   "source": [
    "def crossover(parents):\n",
    "    \n",
    "    children=[]\n",
    "    for i in range(len(parents)):\n",
    "        p1=parents[i]\n",
    "        if (i!=len(parents)-1):\n",
    "            p2=parents[i+1]\n",
    "        else :\n",
    "            p2=parents[0]\n",
    "        \n",
    "        rdm=random.randint(1,len(p1)-2)\n",
    "        child = p1[0:rdm] + p2[rdm:]\n",
    "        \n",
    "        children.append(child)\n",
    "\n",
    "    return list(children)\n",
    "\n",
    "#crossover(selection_fitness(M, population))\n",
    "        "
   ]
  },
  {
   "cell_type": "markdown",
   "metadata": {},
   "source": [
    "### Mutations\n",
    "> 5% de la nouvelle population (parents+enfants) est mutée\n",
    "\n",
    "> Les mutés subissent un changement sur l'une des valeurs du vecteur (un des jobs ne s'exécute plus sur la même machine)"
   ]
  },
  {
   "cell_type": "code",
   "execution_count": 129,
   "metadata": {},
   "outputs": [],
   "source": [
    "def mutator(Matrix, population):\n",
    "    nb_mutated=int(len(population)*0.05)\n",
    "    for i in range(nb_mutated):\n",
    "        rdm_individual=random.randint(0, len(population)-1)\n",
    "        rdm_job=random.randint(0,len(Matrix[0])-1)\n",
    "        rdm_machine=random.randint(0, len(Matrix)-1)\n",
    "        \n",
    "        population[rdm_individual][rdm_job]=rdm_machine\n",
    "        \n",
    "    return list(population)"
   ]
  },
  {
   "cell_type": "markdown",
   "metadata": {},
   "source": [
    "### The fittest\n",
    "> Pour le résultat à la fin de l'algorithme général"
   ]
  },
  {
   "cell_type": "code",
   "execution_count": 135,
   "metadata": {
    "collapsed": true
   },
   "outputs": [],
   "source": [
    "def the_fittest(Matrix, population):\n",
    "    sorted_pop=sorted(population, key=lambda individual: score_individual(Matrix, individual))\n",
    "    \n",
    "    return sorted_pop[0], score_individual(Matrix, sorted_pop[0])"
   ]
  },
  {
   "cell_type": "markdown",
   "metadata": {},
   "source": [
    "## Algorithme génétique (sisi)"
   ]
  },
  {
   "cell_type": "code",
   "execution_count": 141,
   "metadata": {
    "collapsed": true
   },
   "outputs": [],
   "source": [
    "def genetic_algo(Matrix, population_size):\n",
    "    population = generate_population(Matrix, population_size)\n",
    "    for i in range(1000):\n",
    "        parents = selection_fitness(Matrix, population)\n",
    "        children = crossover(parents)\n",
    "        population = mutator(Matrix, parents+children)\n",
    "    \n",
    "    return the_fittest(Matrix, population)   "
   ]
  },
  {
   "cell_type": "markdown",
   "metadata": {},
   "source": [
    "# TEST"
   ]
  },
  {
   "cell_type": "code",
   "execution_count": 142,
   "metadata": {},
   "outputs": [
    {
     "name": "stdout",
     "output_type": "stream",
     "text": [
      "([0, 0, 3, 4, 5, 5, 2, 1, 1], 3)\n"
     ]
    }
   ],
   "source": [
    "M= [[1,2,3,4,5,6,7,8,9],[9,8,7,6,5,4,3,2,1],[2,3,9,8,7,5,1,4,2],\n",
    "    [7,4,1,8,5,2,9,6,3],[3,6,9,2,5,8,1,4,7],[6,5,4,3,2,1,9,8,7]]\n",
    "print(genetic_algo(M,100))"
   ]
  },
  {
   "cell_type": "code",
   "execution_count": null,
   "metadata": {
    "collapsed": true
   },
   "outputs": [],
   "source": []
  }
 ],
 "metadata": {
  "kernelspec": {
   "display_name": "Python [default]",
   "language": "python",
   "name": "python3"
  },
  "language_info": {
   "codemirror_mode": {
    "name": "ipython",
    "version": 3
   },
   "file_extension": ".py",
   "mimetype": "text/x-python",
   "name": "python",
   "nbconvert_exporter": "python",
   "pygments_lexer": "ipython3",
   "version": "3.6.1"
  }
 },
 "nbformat": 4,
 "nbformat_minor": 2
}
