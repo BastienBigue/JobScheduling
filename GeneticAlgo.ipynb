{
 "cells": [
  {
   "cell_type": "markdown",
   "metadata": {},
   "source": [
    "## Heuristique Gloutonne"
   ]
  },
  {
   "cell_type": "code",
   "execution_count": 63,
   "metadata": {},
   "outputs": [],
   "source": [
    "import time\n",
    "\n",
    "def heuristique_gloutonne(jobs):\n",
    "    t = time.perf_counter()\n",
    "    \n",
    "    M = len(jobs)\n",
    "    J = len(jobs[0])\n",
    "    \n",
    "    jobs_done = []\n",
    "    solution = []\n",
    "    tps_exec = []\n",
    "    for m in range(M):\n",
    "        solution.append([])\n",
    "        tps_exec.append(0)\n",
    "        \n",
    "    for j in range(J):\n",
    "        \n",
    "        min_machine = tps_exec.index(min(tps_exec))\n",
    "        min_tps_exec =  tps_exec[min_machine]\n",
    "\n",
    "        min_job = 0\n",
    "        min_job_time = 100000\n",
    "        for i in range(J):\n",
    "            if jobs[min_machine][i] < min_job_time and not i in jobs_done:\n",
    "                min_job_time = jobs[min_machine][i]\n",
    "                min_job = i\n",
    "                \n",
    "        solution[min_machine].append(min_job)\n",
    "        jobs_done.append(min_job)\n",
    "        tps_exec[min_machine] += min_job_time\n",
    "\n",
    "    program_time = time.perf_counter() - t\n",
    "    \n",
    "    #print(solution)\n",
    "    #print(tps_exec)\n",
    "    return solution, max(tps_exec), program_time"
   ]
  },
  {
   "cell_type": "markdown",
   "metadata": {},
   "source": [
    "### Formatage de la solution pour l'algo génétique"
   ]
  },
  {
   "cell_type": "code",
   "execution_count": 64,
   "metadata": {
    "collapsed": true
   },
   "outputs": [],
   "source": [
    "def convert_solution_for_Gen(matrix_sol, nb_jobs):\n",
    "    \n",
    "    converted_sol=[-1 for i in range(nb_jobs)]\n",
    "    \n",
    "    for i in range(len(matrix_sol)):\n",
    "        for job in matrix_sol[i]:\n",
    "            converted_sol[job]=i\n",
    "            \n",
    "    return converted_sol\n",
    "            "
   ]
  },
  {
   "cell_type": "markdown",
   "metadata": {
    "collapsed": true
   },
   "source": [
    "### Génération de la population de départ pour l'algorithme génétique \n",
    "> 50% aléatoire , 50% glouton"
   ]
  },
  {
   "cell_type": "code",
   "execution_count": 65,
   "metadata": {},
   "outputs": [],
   "source": [
    "import random\n",
    "\n",
    "def generate_population(Matrix, population_size, seed=22):\n",
    "    \n",
    "    random.seed(seed)\n",
    "    \n",
    "    nb_machines=len(Matrix)\n",
    "    nb_task=len(Matrix[0])\n",
    "    \n",
    "    sol_glout=convert_solution_for_Gen(heuristique_gloutonne(Matrix)[0], nb_task)\n",
    "    \n",
    "    pop_heuristique=int(population_size*0.5)\n",
    "    \n",
    "    population=[sol_glout for i in range(pop_heuristique)]\n",
    "    \n",
    "    pop_random=population_size-pop_heuristique\n",
    "        \n",
    "    for i in range(pop_random):\n",
    "        individual=[]\n",
    "        for task in range(nb_task):\n",
    "            rdm_machine=random.randint(0,nb_machines-1)\n",
    "            individual.append(rdm_machine)\n",
    "            \n",
    "        population.append(individual)\n",
    "    \n",
    "    return population"
   ]
  },
  {
   "cell_type": "markdown",
   "metadata": {},
   "source": [
    "### Calcul du score pour un individu de la population\n",
    "> C'est la durée totale que mettent tous les jobs à s'éxécuter sur les machines indiquées"
   ]
  },
  {
   "cell_type": "code",
   "execution_count": 66,
   "metadata": {
    "collapsed": true
   },
   "outputs": [],
   "source": [
    "def score_individual(Matrix, individual):\n",
    "    nb_machines=len(Matrix)\n",
    "    score_machine= [0 for i in range(nb_machines)]\n",
    "    \n",
    "    for i in range(len(individual)):\n",
    "        score_machine[individual[i]]+=Matrix[individual[i]][i]\n",
    "        \n",
    "    return max(score_machine)"
   ]
  },
  {
   "cell_type": "markdown",
   "metadata": {},
   "source": [
    "### Récupération de 50% de la population actuelle\n",
    ">45% sont ceux ayant le meilleur score\n",
    "\n",
    ">5% sont séléctionnés aléatoirement"
   ]
  },
  {
   "cell_type": "code",
   "execution_count": 67,
   "metadata": {},
   "outputs": [],
   "source": [
    "def selection_fitness(Matrix, population):\n",
    "    sorted_pop=sorted(population, key=lambda individual: score_individual(Matrix, individual))\n",
    "    \n",
    "    nb_fittest=int(len(population)*0.45)\n",
    "    nb_random=int(len(population)*0.5)-nb_fittest\n",
    "    \n",
    "    parents=sorted_pop[0:nb_fittest]\n",
    "    \n",
    "    for i in range(nb_random):\n",
    "        rdm=random.randint(nb_fittest+1, len(population)-1)\n",
    "        parents.append(sorted_pop[rdm])\n",
    "    \n",
    "    return list(parents)"
   ]
  },
  {
   "cell_type": "markdown",
   "metadata": {},
   "source": [
    "### Crossover\n",
    "> Les parents font un accouplement 2 à 2 (Chaleeeuuur)\n",
    "\n",
    "> L'enfant généré récupère une partie de chacun de ses parents (la taille de chaque partie étant définie aléatoirement)"
   ]
  },
  {
   "cell_type": "code",
   "execution_count": 68,
   "metadata": {
    "collapsed": true
   },
   "outputs": [],
   "source": [
    "def crossover(parents):\n",
    "    \n",
    "    children=[]\n",
    "    for i in range(len(parents)):\n",
    "        p1=parents[i]\n",
    "        if (i!=len(parents)-1):\n",
    "            p2=parents[i+1]\n",
    "        else :\n",
    "            p2=parents[0]\n",
    "        \n",
    "        rdm=random.randint(1,len(p1)-2)\n",
    "        child = p1[0:rdm] + p2[rdm:]\n",
    "        \n",
    "        children.append(child)\n",
    "\n",
    "    return list(children)\n",
    "\n",
    "#crossover(selection_fitness(M, population))\n",
    "        "
   ]
  },
  {
   "cell_type": "markdown",
   "metadata": {},
   "source": [
    "### Mutations\n",
    "> 5% de la nouvelle population (parents+enfants) est mutée\n",
    "\n",
    "> Les mutés subissent un changement sur l'une des valeurs du vecteur (un des jobs ne s'exécute plus sur la même machine)"
   ]
  },
  {
   "cell_type": "code",
   "execution_count": 69,
   "metadata": {
    "collapsed": true
   },
   "outputs": [],
   "source": [
    "def mutator(Matrix, population):\n",
    "    nb_mutated=int(len(population)*0.05)\n",
    "    for i in range(nb_mutated):\n",
    "        rdm_individual=random.randint(0, len(population)-1)\n",
    "        rdm_job=random.randint(0,len(Matrix[0])-1)\n",
    "        rdm_machine=random.randint(0, len(Matrix)-1)\n",
    "        \n",
    "        population[rdm_individual][rdm_job]=rdm_machine\n",
    "        \n",
    "    return list(population)"
   ]
  },
  {
   "cell_type": "markdown",
   "metadata": {},
   "source": [
    "### The fittest\n",
    "> Pour le résultat à la fin de l'algorithme général"
   ]
  },
  {
   "cell_type": "code",
   "execution_count": 70,
   "metadata": {
    "collapsed": true
   },
   "outputs": [],
   "source": [
    "def the_fittest(Matrix, population):\n",
    "    sorted_pop=sorted(population, key=lambda individual: score_individual(Matrix, individual))\n",
    "    \n",
    "    return sorted_pop[0], score_individual(Matrix, sorted_pop[0])"
   ]
  },
  {
   "cell_type": "markdown",
   "metadata": {},
   "source": [
    "## Algorithme génétique (sisi)"
   ]
  },
  {
   "cell_type": "code",
   "execution_count": 76,
   "metadata": {
    "collapsed": true
   },
   "outputs": [],
   "source": [
    "def genetic_algo(Matrix, population_size):\n",
    "    start = time.time()\n",
    "    population = generate_population(Matrix, population_size)\n",
    "    for i in range(500):\n",
    "        parents = selection_fitness(Matrix, population)\n",
    "        children = crossover(parents)\n",
    "        population = mutator(Matrix, parents+children)\n",
    "        \n",
    "    solution = the_fittest(Matrix, population)\n",
    "    \n",
    "    end=time.time()\n",
    "    duree=end-start\n",
    "    \n",
    "    return solution, duree   "
   ]
  },
  {
   "cell_type": "markdown",
   "metadata": {
    "collapsed": true
   },
   "source": [
    "## Formatage de la solution"
   ]
  },
  {
   "cell_type": "code",
   "execution_count": 80,
   "metadata": {
    "collapsed": true
   },
   "outputs": [],
   "source": [
    "def format_sol_gen(solution, Matrix):\n",
    "    \n",
    "    vecteur_sol=solution[0][0]\n",
    "       \n",
    "    #Nombre de Machines\n",
    "    print(len(Matrix), end='')\n",
    "    print(\",\", end='')\n",
    "            \n",
    "    #Nombre de Tâches\n",
    "    print(len(Matrix[0]))\n",
    "            \n",
    "    #Separation id_Matrice et Matrice \n",
    "    print(\"---\")\n",
    "\n",
    "    time_vector=[0 for i in range(len(Matrix))]\n",
    "    \n",
    "    for v in range(len(vecteur_sol)):\n",
    "        \n",
    "        #Numero de la machine\n",
    "        print(vecteur_sol[v], end='')\n",
    "        print(\",\", end='')\n",
    "\n",
    "        #Numero de la tache\n",
    "        print(v, end='')\n",
    "        print(\",\", end='')\n",
    "\n",
    "        start = time_vector[vecteur_sol[v]]\n",
    "        end = start + Matrix[vecteur_sol[v]][v]\n",
    "        time_vector[vecteur_sol[v]]=end\n",
    "        \n",
    "        #Temps du debut de la tache\n",
    "        print(start, end='')     \n",
    "        print(\",\", end='')\n",
    "\n",
    "        #Temps de la fin de la tache\n",
    "        print(end)\n",
    "\n",
    "    #Separation Matrice et Résultats\n",
    "    print(\"---\")\n",
    "\n",
    "    #Temps d'execution\n",
    "    print(solution[1], end='')\n",
    "    print(\",\", end='')\n",
    "\n",
    "    #Resultat Optimal\n",
    "    print(solution[0][1])\n",
    "\n",
    "    print()\n",
    "            \n",
    "    "
   ]
  },
  {
   "cell_type": "code",
   "execution_count": 81,
   "metadata": {},
   "outputs": [],
   "source": [
    "import sys\n",
    "\n",
    "def test_job_scheduling_AlgoGen(inputfile, outputfile):\n",
    "        \n",
    "    file = open(outputfile, 'w')\n",
    "\n",
    "    list_of_matrix = create_matrix_list_from_csv(inputfile)\n",
    "    id_matrix=0\n",
    "    for matrix in list_of_matrix:\n",
    "        if matrix!=[]:\n",
    "            sol=genetic_algo(matrix, 500)\n",
    "            format_sol_gen(sol, matrix)\n",
    "\n",
    "            print(file=file)\n",
    "\n",
    "    id_matrix+=1"
   ]
  },
  {
   "cell_type": "markdown",
   "metadata": {},
   "source": [
    "# TEST"
   ]
  },
  {
   "cell_type": "code",
   "execution_count": 79,
   "metadata": {},
   "outputs": [
    {
     "name": "stdout",
     "output_type": "stream",
     "text": [
      "(([0, 2, 3, 4, 5, 5, 4, 1, 1], 3), 0.3035011291503906)\n",
      "6,9\n",
      "---\n",
      "0,0,0,1\n",
      "2,1,0,3\n",
      "3,2,0,1\n",
      "4,3,0,2\n",
      "5,4,0,2\n",
      "5,5,3,4\n",
      "4,6,3,4\n",
      "1,7,0,2\n",
      "1,8,3,4\n",
      "---\n",
      "0.3035011291503906,3\n",
      "\n"
     ]
    }
   ],
   "source": [
    "M= [[1,2,3,4,5,6,7,8,9],[9,8,7,6,5,4,3,2,1],[2,3,9,8,7,5,1,4,2],\n",
    "    [7,4,1,8,5,2,9,6,3],[3,6,9,2,5,8,1,4,7],[6,5,4,3,2,1,9,8,7]]\n",
    "sol = genetic_algo(M,100)\n",
    "print(sol)\n",
    "\n",
    "format_sol_gen(sol, M)"
   ]
  },
  {
   "cell_type": "code",
   "execution_count": null,
   "metadata": {
    "collapsed": true
   },
   "outputs": [],
   "source": []
  }
 ],
 "metadata": {
  "kernelspec": {
   "display_name": "Python [default]",
   "language": "python",
   "name": "python3"
  },
  "language_info": {
   "codemirror_mode": {
    "name": "ipython",
    "version": 3
   },
   "file_extension": ".py",
   "mimetype": "text/x-python",
   "name": "python",
   "nbconvert_exporter": "python",
   "pygments_lexer": "ipython3",
   "version": "3.6.1"
  }
 },
 "nbformat": 4,
 "nbformat_minor": 2
}
