{
 "cells": [
  {
   "cell_type": "code",
   "execution_count": 7,
   "metadata": {
    "collapsed": true
   },
   "outputs": [],
   "source": [
    "from config import setup\n",
    "setup()"
   ]
  },
  {
   "cell_type": "code",
   "execution_count": 8,
   "metadata": {},
   "outputs": [
    {
     "data": {
      "text/plain": [
       "[]"
      ]
     },
     "execution_count": 8,
     "metadata": {},
     "output_type": "execute_result"
    }
   ],
   "source": [
    "import csv\n",
    "\n",
    "\n",
    "def createMatrixListFromCsv():\n",
    "    list_of_matrix=[]\n",
    "    with open('tests.csv', 'r') as csvfile:\n",
    "        spamreader = csv.reader(csvfile, delimiter=',')\n",
    "        matrix = []\n",
    "        \n",
    "        for line in spamreader:\n",
    "            if line==[]:\n",
    "                list_of_matrix.append(matrix)\n",
    "                matrix=[]\n",
    "            else:\n",
    "                row = []\n",
    "                for cell in line:\n",
    "                    row.append(int (cell))\n",
    "                matrix.append(row)  \n",
    "                \n",
    "        if (matrix!=[]):\n",
    "            list_of_matrix.append(matrix)\n",
    "        \n",
    "        return list_of_matrix\n",
    "\n",
    "createMatrixListFromCsv()"
   ]
  },
  {
   "cell_type": "code",
   "execution_count": 9,
   "metadata": {},
   "outputs": [],
   "source": [
    "from docplex.cp.model import CpoModel\n",
    "import numpy as np\n",
    "\n",
    "def create_model(D):\n",
    "\n",
    "    M=len(D)\n",
    "    T=len(D[0])\n",
    "    \n",
    "    # Create the model\n",
    "    mdl = CpoModel(name='projetMineure')\n",
    "\n",
    "    # Create one interval variable per job operation\n",
    "    x = [[mdl.interval_var(size=D[m][t], optional=True, name=\"Machine_{}-Job_{}\".format(m, t)) for t in range(T)] for m in range(M)]\n",
    "\n",
    "\n",
    "    # Force no overlap for operations executed on a same machine\n",
    "    for m in range(M):\n",
    "        mdl.add(mdl.no_overlap(x[m]))\n",
    "    \n",
    "    for t in range(T):\n",
    "        mdl.add((sum([mdl.presence_of(x[m][t]) for m in range(M)])==1))\n",
    "    \n",
    "\n",
    "    # Minimize termination date\n",
    "    flatten_x = np.array(x).flatten()\n",
    "    \n",
    "    mdl.add(mdl.minimize(mdl.max([mdl.end_of(flatten_x[t]) for t in range(len(flatten_x))])))\n",
    "        \n",
    "    return mdl, x\n",
    "\n",
    "#mdl, x = create_model([[1,5,5],[5,1,5],[5,5,1]])\n",
    "#mdl, x = create_model([[1,2,3,4,5,6,7,8,9],[9,8,7,6,5,4,3,2,1],[2,3,9,8,7,5,1,4,2],\n",
    "#                       [7,4,1,8,5,2,9,6,3],[3,6,9,2,5,8,1,4,7],[6,5,4,3,2,1,9,8,7]])\n",
    "#sol=mdl.solve()\n",
    "#if (sol):\n",
    "    \n",
    "#    sol.print_solution()\n",
    "            \n",
    "#else:\n",
    "#    print(\"error: No solution found\")"
   ]
  },
  {
   "cell_type": "code",
   "execution_count": 12,
   "metadata": {},
   "outputs": [],
   "source": [
    "import sys\n",
    "\n",
    "sys.stdout = open('outputFileTest.txt', 'w')\n",
    "\n",
    "list_of_matrix = createMatrixListFromCsv()\n",
    "id_matrix=0\n",
    "for matrix in list_of_matrix:\n",
    "    if matrix!=[]:\n",
    "        mdl, x = create_model(matrix)\n",
    "        sol=mdl.solve()\n",
    "        if (sol):   \n",
    "            #id_Matrice\n",
    "            print(id_matrix, end='')\n",
    "            print(\",\", end='')\n",
    "            \n",
    "            #Nombre de Machines\n",
    "            print(len(matrix), end='')\n",
    "            print(\",\", end='')\n",
    "            \n",
    "            #Nombre de Tâches\n",
    "            print(len(matrix[0]))\n",
    "            \n",
    "            #Separation id_Matrice et Matrice \n",
    "            print(\"---\")\n",
    "\n",
    "            var=sol.get_all_var_solutions()\n",
    "            for v in var:\n",
    "                if not(v.is_absent()):\n",
    "                    name=v.get_name().split(\"-\")\n",
    "\n",
    "                    #Numero de la machine\n",
    "                    print(name[0].split(\"_\")[1]+\",\", end='')\n",
    "\n",
    "                    #Numero de la tache\n",
    "                    print(name[1].split(\"_\")[1]+\",\", end='')\n",
    "\n",
    "                    #Temps du debut de la tache\n",
    "                    print(v.get_start(), end='')     \n",
    "                    print(\",\", end='')\n",
    "\n",
    "                    #Temps de la fin de la tache\n",
    "                    print(v.get_end())\n",
    "\n",
    "            #Separation Matrice et Résultats\n",
    "            print(\"---\")\n",
    "\n",
    "            #Temps d'execution\n",
    "            print(sol.get_solve_time(), end='')\n",
    "            print(\",\", end='')\n",
    "\n",
    "            #Resultat Optimal\n",
    "            print(sol.get_objective_values()[0])\n",
    "\n",
    "            print()\n",
    "    \n",
    "\n",
    "        else:\n",
    "            print(\"error: No solution found\")\n",
    "            \n",
    "        id_matrix+=1"
   ]
  },
  {
   "cell_type": "code",
   "execution_count": null,
   "metadata": {
    "collapsed": true
   },
   "outputs": [],
   "source": []
  },
  {
   "cell_type": "code",
   "execution_count": null,
   "metadata": {
    "collapsed": true
   },
   "outputs": [],
   "source": []
  },
  {
   "cell_type": "code",
   "execution_count": null,
   "metadata": {
    "collapsed": true
   },
   "outputs": [],
   "source": []
  }
 ],
 "metadata": {
  "kernelspec": {
   "display_name": "Python [default]",
   "language": "python",
   "name": "python3"
  },
  "language_info": {
   "codemirror_mode": {
    "name": "ipython",
    "version": 3
   },
   "file_extension": ".py",
   "mimetype": "text/x-python",
   "name": "python",
   "nbconvert_exporter": "python",
   "pygments_lexer": "ipython3",
   "version": "3.6.1"
  }
 },
 "nbformat": 4,
 "nbformat_minor": 2
}
